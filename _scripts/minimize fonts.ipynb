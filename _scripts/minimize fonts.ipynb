{
 "cells": [
  {
   "cell_type": "code",
   "execution_count": null,
   "metadata": {},
   "outputs": [],
   "source": [
    "#!/usr/bin/python3\n",
    "#from https://stackoverflow.com/a/34132900/3525188\n",
    "import sys\n",
    "import fontforge"
   ]
  },
  {
   "cell_type": "code",
   "execution_count": null,
   "metadata": {},
   "outputs": [],
   "source": [
    "import mimetypes\n",
    "import os\n",
    "rootdir = '../'\n",
    "alltextfileconcat=set()\n",
    "for subdir, dirs, files in os.walk(rootdir):\n",
    "    for file in files:\n",
    "        #print os.path.join(subdir, file)\n",
    "        if not any(_ in os.path.join(subdir, file) for _ in ['jmol', '.css']):\n",
    "            mime = mimetypes.guess_type(file)\n",
    "            if mime[0] is not None:\n",
    "                if 'text' in mime[0]:\n",
    "                    print(os.path.join(subdir, file))\n",
    "                    f = open(os.path.join(subdir, file), 'r')\n",
    "                    alltextfileconcat = alltextfileconcat.union(list(f.read()))\n",
    "                    f.close()"
   ]
  },
  {
   "cell_type": "code",
   "execution_count": null,
   "metadata": {},
   "outputs": [],
   "source": [
    "len(alltextfileconcat)"
   ]
  },
  {
   "cell_type": "code",
   "execution_count": null,
   "metadata": {
    "scrolled": false
   },
   "outputs": [],
   "source": [
    "for c in [str(_) for i,_ in enumerate(list(alltextfileconcat))]:\n",
    "    print(c, end=\",\")\n"
   ]
  },
  {
   "cell_type": "code",
   "execution_count": null,
   "metadata": {},
   "outputs": [],
   "source": [
    "fontdir = '../_fonts'\n",
    "targetfontdir = '../_fonts/minified/'\n",
    "\n",
    "for myfont in os.listdir('../_fonts/'):\n",
    "    if myfont not in targetfontdir:\n",
    "        fontpath =  os.path.join(fontdir, myfont)\n",
    "        targetfontpath = os.path.join(targetfontdir, myfont)\n",
    "        font = fontforge.open(fontpath)\n",
    "        for i in alltextfileconcat:\n",
    "            print(i, ord(i))\n",
    "            font.selection[ord(i)] = True\n",
    "\n",
    "        font.selection.invert()\n",
    "\n",
    "        for i in font.selection.byGlyphs:\n",
    "            font.removeGlyph(i)\n",
    "        print(\"generating font\")\n",
    "        # TODO(firsching): figure out why this hangs!\n",
    "        font.generate(targetfontpath)"
   ]
  },
  {
   "cell_type": "code",
   "execution_count": null,
   "metadata": {
    "scrolled": true
   },
   "outputs": [],
   "source": [
    "import base64\n",
    "ugly={}\n",
    "types=['R', 'RI', 'RB']\n",
    "for typ in types:\n",
    "    f = open(os.path.join(targetfontdir, \"LinBiolinum_%s.woff\"% typ), 'rb')\n",
    "    filestr = base64.b64encode((f.read()))   \n",
    "    f.close()\n",
    "\n",
    "    # print(filestr.decode())\n",
    "    print(len(filestr))\n",
    "    ugly[typ] = filestr.decode()"
   ]
  },
  {
   "cell_type": "code",
   "execution_count": null,
   "metadata": {
    "scrolled": true
   },
   "outputs": [],
   "source": [
    "\n",
    "biolinum_css = r\"\"\"/*\n",
    " * CSS-ified version of Biolinum.\n",
    " */\n",
    "\n",
    "@font-face {\n",
    "    font-family: 'Linux Biolinum'; /* normal */\n",
    "    src: url('data:application/x-font-woff;base64,%s') format('woff');\n",
    "    font-weight: normal;\n",
    "    font-style: normal;\n",
    "}\n",
    "\n",
    "@font-face {\n",
    "    font-family: 'Linux Biolinum'; /* italic */\n",
    "    src: url('data:application/x-font-woff;base64,%s') format('woff');\n",
    "    font-weight: normal;\n",
    "    font-style: italic;\n",
    "}\n",
    "\n",
    "@font-face {\n",
    "    font-family: 'Linux Biolinum'; /* bold */\n",
    "    src: url('data:application/x-font-woff;base64,%s') format('woff');\n",
    "    font-weight: bold;\n",
    "    font-style: normal;\n",
    "}\"\"\"% tuple([ugly[_] for _ in types])\n",
    "\n",
    "print(biolinum_css)"
   ]
  },
  {
   "cell_type": "code",
   "execution_count": null,
   "metadata": {},
   "outputs": [],
   "source": [
    "biofile = open(\"../_sass/_biolinum.scss\",'w')\n",
    "biofile.write(biolinum_css)\n",
    "biofile.close()"
   ]
  },
  {
   "cell_type": "code",
   "execution_count": null,
   "metadata": {},
   "outputs": [],
   "source": [
    "ugly['R']"
   ]
  },
  {
   "cell_type": "code",
   "execution_count": null,
   "metadata": {},
   "outputs": [],
   "source": []
  },
  {
   "cell_type": "code",
   "execution_count": null,
   "metadata": {},
   "outputs": [],
   "source": []
  }
 ],
 "metadata": {
  "kernelspec": {
   "display_name": "Python 3 (ipykernel)",
   "language": "python",
   "name": "python3"
  },
  "language_info": {
   "codemirror_mode": {
    "name": "ipython",
    "version": 3
   },
   "file_extension": ".py",
   "mimetype": "text/x-python",
   "name": "python",
   "nbconvert_exporter": "python",
   "pygments_lexer": "ipython3",
   "version": "3.9.12"
  }
 },
 "nbformat": 4,
 "nbformat_minor": 2
}
